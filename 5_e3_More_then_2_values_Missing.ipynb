{
  "nbformat": 4,
  "nbformat_minor": 0,
  "metadata": {
    "colab": {
      "provenance": [],
      "authorship_tag": "ABX9TyOr1fQGNpHEn5H1sJ17/s1K",
      "include_colab_link": true
    },
    "kernelspec": {
      "name": "python3",
      "display_name": "Python 3"
    },
    "language_info": {
      "name": "python"
    }
  },
  "cells": [
    {
      "cell_type": "markdown",
      "metadata": {
        "id": "view-in-github",
        "colab_type": "text"
      },
      "source": [
        "<a href=\"https://colab.research.google.com/github/HSP6301/Data-Science-Practicals/blob/main/5_e3_More_then_2_values_Missing.ipynb\" target=\"_parent\"><img src=\"https://colab.research.google.com/assets/colab-badge.svg\" alt=\"Open In Colab\"/></a>"
      ]
    },
    {
      "cell_type": "code",
      "execution_count": null,
      "metadata": {
        "id": "-aEH58rkPPba"
      },
      "outputs": [],
      "source": [
        "# 5E Drop rows where more than 2 values are missing\n",
        "# Executed by Babdya\n",
        "# MScIT Part 1 - Sem 1 \n",
        "# University Department of Information Technology\n",
        "# 07-Oct-2022"
      ]
    },
    {
      "cell_type": "code",
      "source": [
        "import sys\n",
        "import os\n",
        "import pandas as pd"
      ],
      "metadata": {
        "id": "L-SoScLOPU6n"
      },
      "execution_count": null,
      "outputs": []
    },
    {
      "cell_type": "code",
      "source": [
        "sInputFileName='/content/Good-or-Bad.csv'\n",
        "sOutputFileName='/content/morethan2missing.csv'"
      ],
      "metadata": {
        "id": "NdPTC51vPV6e"
      },
      "execution_count": null,
      "outputs": []
    },
    {
      "cell_type": "code",
      "source": [
        "print('Loading :',sInputFileName)\n",
        "RawData=pd.read_csv(sInputFileName,header=0)\n"
      ],
      "metadata": {
        "id": "9NELhFUSPXM_",
        "outputId": "d53154ba-8817-4ffc-aaa5-1b6bb10a8cda",
        "colab": {
          "base_uri": "https://localhost:8080/"
        }
      },
      "execution_count": null,
      "outputs": [
        {
          "output_type": "stream",
          "name": "stdout",
          "text": [
            "Loading : /content/Good-or-Bad.csv\n"
          ]
        }
      ]
    },
    {
      "cell_type": "code",
      "source": [
        "print('## Raw Data Values')  \n",
        "print('################################')  \n",
        "print(RawData)\n",
        "print('################################')   \n",
        "print('## Data Profile') \n",
        "print('################################')\n",
        "print('Rows :',RawData.shape[0])\n",
        "print('Columns :',RawData.shape[1])"
      ],
      "metadata": {
        "id": "QkHRs7hEPYPf",
        "outputId": "91323d1d-55dd-468a-dad3-bc9249825870",
        "colab": {
          "base_uri": "https://localhost:8080/"
        }
      },
      "execution_count": null,
      "outputs": [
        {
          "output_type": "stream",
          "name": "stdout",
          "text": [
            "## Raw Data Values\n",
            "################################\n",
            "      ID FieldA  FieldB FieldC  FieldD  FieldE    FieldF  FieldG\n",
            "0    1.0   Good  Better   Best  1024.0     NaN   10241.0       1\n",
            "1    2.0   Good     NaN   Best   512.0     NaN    5121.0       2\n",
            "2    3.0   Good  Better    NaN   256.0     NaN     256.0       3\n",
            "3    4.0   Good  Better   Best     NaN     NaN     211.0       4\n",
            "4    5.0   Good  Better    NaN    64.0     NaN    6411.0       5\n",
            "5    6.0   Good     NaN   Best    32.0     NaN      32.0       6\n",
            "6    7.0    NaN  Better   Best    16.0     NaN    1611.0       7\n",
            "7    8.0    NaN     NaN   Best     8.0     NaN    8111.0       8\n",
            "8    9.0    NaN     NaN    NaN     4.0     NaN      41.0       9\n",
            "9   10.0      A      B       C     2.0     NaN   21111.0      10\n",
            "10   NaN    NaN     NaN    NaN     NaN     NaN       NaN      11\n",
            "11  10.0   Good  Better   Best  1024.0     NaN  102411.0      12\n",
            "12  10.0   Good     NaN   Best   512.0     NaN     512.0      13\n",
            "13  10.0   Good  Better    NaN   256.0     NaN    1256.0      14\n",
            "14  10.0   Good  Better   Best     NaN     NaN       NaN      15\n",
            "15  10.0   Good  Better    NaN    64.0     NaN     164.0      16\n",
            "16  10.0   Good     NaN   Best    32.0     NaN     322.0      17\n",
            "17  10.0    NaN  Better   Best    16.0     NaN     163.0      18\n",
            "18  10.0    NaN     NaN   Best     8.0     NaN     844.0      19\n",
            "19  10.0    NaN     NaN    NaN     4.0     NaN    4555.0      20\n",
            "20  10.0      A      B       C     2.0     NaN     111.0      21\n",
            "################################\n",
            "## Data Profile\n",
            "################################\n",
            "Rows : 21\n",
            "Columns : 8\n"
          ]
        }
      ]
    },
    {
      "cell_type": "code",
      "source": [
        "# Drop rows where more than 2 values are missing\n",
        "TestData=RawData.dropna(thresh=2)"
      ],
      "metadata": {
        "id": "BF06jDl6PZP8"
      },
      "execution_count": null,
      "outputs": []
    },
    {
      "cell_type": "code",
      "source": [
        "print('## Test Data Values')  \n",
        "print('################################')  \n",
        "print(TestData)\n",
        "print('################################')   \n",
        "print('## Data Profile') \n",
        "print('################################')\n",
        "print('Rows :',TestData.shape[0])\n",
        "print('Columns :',TestData.shape[1])"
      ],
      "metadata": {
        "id": "-ONUTNCGPaY0",
        "outputId": "eea2d954-9b2d-4c0c-b12b-f3ee0eaefdad",
        "colab": {
          "base_uri": "https://localhost:8080/"
        }
      },
      "execution_count": null,
      "outputs": [
        {
          "output_type": "stream",
          "name": "stdout",
          "text": [
            "## Test Data Values\n",
            "################################\n",
            "      ID FieldA  FieldB FieldC  FieldD  FieldE    FieldF  FieldG\n",
            "0    1.0   Good  Better   Best  1024.0     NaN   10241.0       1\n",
            "1    2.0   Good     NaN   Best   512.0     NaN    5121.0       2\n",
            "2    3.0   Good  Better    NaN   256.0     NaN     256.0       3\n",
            "3    4.0   Good  Better   Best     NaN     NaN     211.0       4\n",
            "4    5.0   Good  Better    NaN    64.0     NaN    6411.0       5\n",
            "5    6.0   Good     NaN   Best    32.0     NaN      32.0       6\n",
            "6    7.0    NaN  Better   Best    16.0     NaN    1611.0       7\n",
            "7    8.0    NaN     NaN   Best     8.0     NaN    8111.0       8\n",
            "8    9.0    NaN     NaN    NaN     4.0     NaN      41.0       9\n",
            "9   10.0      A      B       C     2.0     NaN   21111.0      10\n",
            "11  10.0   Good  Better   Best  1024.0     NaN  102411.0      12\n",
            "12  10.0   Good     NaN   Best   512.0     NaN     512.0      13\n",
            "13  10.0   Good  Better    NaN   256.0     NaN    1256.0      14\n",
            "14  10.0   Good  Better   Best     NaN     NaN       NaN      15\n",
            "15  10.0   Good  Better    NaN    64.0     NaN     164.0      16\n",
            "16  10.0   Good     NaN   Best    32.0     NaN     322.0      17\n",
            "17  10.0    NaN  Better   Best    16.0     NaN     163.0      18\n",
            "18  10.0    NaN     NaN   Best     8.0     NaN     844.0      19\n",
            "19  10.0    NaN     NaN    NaN     4.0     NaN    4555.0      20\n",
            "20  10.0      A      B       C     2.0     NaN     111.0      21\n",
            "################################\n",
            "## Data Profile\n",
            "################################\n",
            "Rows : 20\n",
            "Columns : 8\n"
          ]
        }
      ]
    },
    {
      "cell_type": "code",
      "source": [
        "TestData.to_csv(sOutputFileName, index = False)"
      ],
      "metadata": {
        "id": "h4O4TUjrPb1t"
      },
      "execution_count": null,
      "outputs": []
    }
  ]
}