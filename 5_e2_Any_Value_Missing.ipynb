{
  "nbformat": 4,
  "nbformat_minor": 0,
  "metadata": {
    "colab": {
      "provenance": [],
      "authorship_tag": "ABX9TyO49qjchROgMf9abQG4YYhq",
      "include_colab_link": true
    },
    "kernelspec": {
      "name": "python3",
      "display_name": "Python 3"
    },
    "language_info": {
      "name": "python"
    }
  },
  "cells": [
    {
      "cell_type": "markdown",
      "metadata": {
        "id": "view-in-github",
        "colab_type": "text"
      },
      "source": [
        "<a href=\"https://colab.research.google.com/github/HSP6301/Data-Science-Practicals/blob/main/5_e2_Any_Value_Missing.ipynb\" target=\"_parent\"><img src=\"https://colab.research.google.com/assets/colab-badge.svg\" alt=\"Open In Colab\"/></a>"
      ]
    },
    {
      "cell_type": "code",
      "execution_count": null,
      "metadata": {
        "id": "EbS3doTEOy_d"
      },
      "outputs": [],
      "source": [
        "# 5E Drop col where any element are missing\n",
        "# Executed by Nikhil K Pawanikar\n",
        "# MScIT Part 1 - Sem 1 \n",
        "# University Department of Information Technology\n",
        "# 07-Oct-2022"
      ]
    },
    {
      "cell_type": "code",
      "source": [
        "import sys\n",
        "import os\n",
        "import pandas as pd\n",
        "################################################################"
      ],
      "metadata": {
        "id": "A5EatZVKO871"
      },
      "execution_count": null,
      "outputs": []
    },
    {
      "cell_type": "code",
      "source": [
        "sOutputFileName='/content/anymissing.csv'\n",
        "sInputFileName='/content/Good-or-Bad.csv'\n"
      ],
      "metadata": {
        "id": "v4sRtPd_O-HE"
      },
      "execution_count": null,
      "outputs": []
    },
    {
      "cell_type": "code",
      "source": [
        "print('Loading :',sInputFileName)\n",
        "RawData=pd.read_csv(sInputFileName,header=0)"
      ],
      "metadata": {
        "colab": {
          "base_uri": "https://localhost:8080/"
        },
        "id": "bB5gPcaxO_G1",
        "outputId": "a11c9623-6f43-4a6d-b5b0-0b048dbe82cb"
      },
      "execution_count": null,
      "outputs": [
        {
          "output_type": "stream",
          "name": "stdout",
          "text": [
            "Loading : /content/Good-or-Bad.csv\n"
          ]
        }
      ]
    },
    {
      "cell_type": "code",
      "source": [
        "print('## Raw Data Values')  \n",
        "print('################################')  \n",
        "print(RawData)\n",
        "print('################################')   \n",
        "print('## Data Profile') \n",
        "print('################################')\n",
        "print('Rows    :',RawData.shape[0])\n",
        "print('Columns :',RawData.shape[1])"
      ],
      "metadata": {
        "colab": {
          "base_uri": "https://localhost:8080/"
        },
        "id": "vcAyZuFzPATF",
        "outputId": "15f5c319-12ed-4a35-d9ae-ed5856d26708"
      },
      "execution_count": null,
      "outputs": [
        {
          "output_type": "stream",
          "name": "stdout",
          "text": [
            "## Raw Data Values\n",
            "################################\n",
            "      ID FieldA  FieldB FieldC  FieldD  FieldE    FieldF  FieldG\n",
            "0    1.0   Good  Better   Best  1024.0     NaN   10241.0       1\n",
            "1    2.0   Good     NaN   Best   512.0     NaN    5121.0       2\n",
            "2    3.0   Good  Better    NaN   256.0     NaN     256.0       3\n",
            "3    4.0   Good  Better   Best     NaN     NaN     211.0       4\n",
            "4    5.0   Good  Better    NaN    64.0     NaN    6411.0       5\n",
            "5    6.0   Good     NaN   Best    32.0     NaN      32.0       6\n",
            "6    7.0    NaN  Better   Best    16.0     NaN    1611.0       7\n",
            "7    8.0    NaN     NaN   Best     8.0     NaN    8111.0       8\n",
            "8    9.0    NaN     NaN    NaN     4.0     NaN      41.0       9\n",
            "9   10.0      A      B       C     2.0     NaN   21111.0      10\n",
            "10   NaN    NaN     NaN    NaN     NaN     NaN       NaN      11\n",
            "11  10.0   Good  Better   Best  1024.0     NaN  102411.0      12\n",
            "12  10.0   Good     NaN   Best   512.0     NaN     512.0      13\n",
            "13  10.0   Good  Better    NaN   256.0     NaN    1256.0      14\n",
            "14  10.0   Good  Better   Best     NaN     NaN       NaN      15\n",
            "15  10.0   Good  Better    NaN    64.0     NaN     164.0      16\n",
            "16  10.0   Good     NaN   Best    32.0     NaN     322.0      17\n",
            "17  10.0    NaN  Better   Best    16.0     NaN     163.0      18\n",
            "18  10.0    NaN     NaN   Best     8.0     NaN     844.0      19\n",
            "19  10.0    NaN     NaN    NaN     4.0     NaN    4555.0      20\n",
            "20  10.0      A      B       C     2.0     NaN     111.0      21\n",
            "################################\n",
            "## Data Profile\n",
            "################################\n",
            "Rows    : 21\n",
            "Columns : 8\n"
          ]
        }
      ]
    },
    {
      "cell_type": "code",
      "source": [
        "# Drop columns where any value is missing\n",
        "TestData=RawData.dropna(axis=1, how='any')"
      ],
      "metadata": {
        "id": "-LodkOIWPBN0"
      },
      "execution_count": null,
      "outputs": []
    },
    {
      "cell_type": "code",
      "source": [
        "################################################################\n",
        "print('################################')  \n",
        "print('## Test Data Values')  \n",
        "print('################################')  \n",
        "print(TestData)\n",
        "print('################################')   \n",
        "print('## Data Profile') \n",
        "print('################################')\n",
        "print('Rows :',TestData.shape[0])\n",
        "print('Columns :',TestData.shape[1])"
      ],
      "metadata": {
        "colab": {
          "base_uri": "https://localhost:8080/"
        },
        "id": "u5FJo8KbPCM1",
        "outputId": "d2088392-dac6-4a3a-a9d5-53a5a3e71d6c"
      },
      "execution_count": null,
      "outputs": [
        {
          "output_type": "stream",
          "name": "stdout",
          "text": [
            "################################\n",
            "## Test Data Values\n",
            "################################\n",
            "    FieldG\n",
            "0        1\n",
            "1        2\n",
            "2        3\n",
            "3        4\n",
            "4        5\n",
            "5        6\n",
            "6        7\n",
            "7        8\n",
            "8        9\n",
            "9       10\n",
            "10      11\n",
            "11      12\n",
            "12      13\n",
            "13      14\n",
            "14      15\n",
            "15      16\n",
            "16      17\n",
            "17      18\n",
            "18      19\n",
            "19      20\n",
            "20      21\n",
            "################################\n",
            "## Data Profile\n",
            "################################\n",
            "Rows : 21\n",
            "Columns : 1\n"
          ]
        }
      ]
    },
    {
      "cell_type": "code",
      "source": [
        "TestData.to_csv(sOutputFileName, index = False)"
      ],
      "metadata": {
        "id": "iRoLqSOOPDiM"
      },
      "execution_count": null,
      "outputs": []
    }
  ]
}